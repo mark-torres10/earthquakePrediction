{
 "cells": [
  {
   "cell_type": "markdown",
   "metadata": {},
   "source": [
    "GOAL: Predict earthquake intensity for DrivenData competition\n",
    "\n",
    "Approaches I'll use: \n",
    "\n",
    "1. catboost algorithm\n",
    "\n",
    "I will: \n",
    "\n",
    "1. Import data\n",
    "2. Fit model\n",
    "3. Create predictions\n"
   ]
  },
  {
   "cell_type": "code",
   "execution_count": 1,
   "metadata": {},
   "outputs": [],
   "source": [
    "# import packages:\n",
    "\n",
    "#import sys\n",
    "#!{sys.executable} -m pip install catboost\n",
    "\n",
    "import catboost\n",
    "import numpy as np\n",
    "import pandas as pd"
   ]
  },
  {
   "cell_type": "code",
   "execution_count": null,
   "metadata": {},
   "outputs": [],
   "source": [
    "# 1. Import data\n",
    "\n",
    "# train data\n",
    "trainData_total = pd.read_csv(\"train_values.csv\")\n",
    "y = pd.read_csv(\"train_labels.csv\")\n",
    "cat_features = [8, 9, 10, 11, 12, 13, 14, 26]\n",
    "\n",
    "# test data\n",
    "testData = pd.read_csv(\"test_values.csv\")"
   ]
  },
  {
   "cell_type": "code",
   "execution_count": 3,
   "metadata": {},
   "outputs": [],
   "source": [
    "# 2 Fit catboost classifier\n",
    "\n",
    "from catboost import CatBoostClassifier, Pool\n",
    "\n",
    "# create training data\n",
    "train_data = Pool(data = trainData_total, \n",
    "                 label = y, \n",
    "                 cat_features = cat_features)\n",
    "\n",
    "# create classifier\n",
    "mod_catboost = CatBoostClassifier(iterations = 100, loss_function = \"MultiClass\")"
   ]
  },
  {
   "cell_type": "code",
   "execution_count": null,
   "metadata": {},
   "outputs": [],
   "source": [
    "# fit to training data\n",
    "mod_catboost = mod_catboost.fit(train_data)"
   ]
  },
  {
   "cell_type": "code",
   "execution_count": null,
   "metadata": {},
   "outputs": [],
   "source": [
    "# fit to test data\n",
    "preds = mod_catboost.predict(testData)"
   ]
  },
  {
   "cell_type": "code",
   "execution_count": null,
   "metadata": {},
   "outputs": [],
   "source": []
  }
 ],
 "metadata": {
  "kernelspec": {
   "display_name": "Python 3",
   "language": "python",
   "name": "python3"
  },
  "language_info": {
   "codemirror_mode": {
    "name": "ipython",
    "version": 3
   },
   "file_extension": ".py",
   "mimetype": "text/x-python",
   "name": "python",
   "nbconvert_exporter": "python",
   "pygments_lexer": "ipython3",
   "version": "3.7.2"
  }
 },
 "nbformat": 4,
 "nbformat_minor": 2
}
